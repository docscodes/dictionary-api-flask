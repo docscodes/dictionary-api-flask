{
 "cells": [
  {
   "cell_type": "code",
   "execution_count": 1,
   "id": "70abb686-1d00-47ce-affb-89f122148bda",
   "metadata": {},
   "outputs": [
    {
     "data": {
      "text/plain": [
       "b'{\"usage\":\"/dict?=<word>\"}\\n'"
      ]
     },
     "execution_count": 1,
     "metadata": {},
     "output_type": "execute_result"
    }
   ],
   "source": [
    "import requests\n",
    "\n",
    "URL = \"http://127.0.0.1:5000/\"\n",
    "\n",
    "response = requests.get(URL)\n",
    "response.raise_for_status\n",
    "response.content"
   ]
  },
  {
   "cell_type": "code",
   "execution_count": 7,
   "id": "840a7496-b52a-4f9e-a81a-4cb2f7cc8b76",
   "metadata": {},
   "outputs": [
    {
     "data": {
      "text/plain": [
       "'/dict?=<word>'"
      ]
     },
     "execution_count": 7,
     "metadata": {},
     "output_type": "execute_result"
    }
   ],
   "source": [
    "import json\n",
    "\n",
    "data = response.content.decode( \"utf-8\" )\n",
    "data = json.loads(data)\n",
    "\n",
    "data['usage']"
   ]
  },
  {
   "cell_type": "code",
   "execution_count": 54,
   "id": "c8369a44-bf4f-48c4-9a8e-8cb532279a81",
   "metadata": {},
   "outputs": [
    {
     "data": {
      "text/plain": [
       "{'data': [['data', 'n. pl.', 'See Datum.'], ['data', 'pl. ', 'of Datum']],\n",
       " 'status': 'success',\n",
       " 'word': 'data'}"
      ]
     },
     "execution_count": 54,
     "metadata": {},
     "output_type": "execute_result"
    }
   ],
   "source": [
    "URL = \"http://127.0.0.1:5000/\"\n",
    "word = 'data'\n",
    "\n",
    "response = requests.get(f\"{URL}dict?word={word}\")\n",
    "data = json.loads(response.content.decode(\"utf-8\"))\n",
    "data"
   ]
  },
  {
   "cell_type": "code",
   "execution_count": null,
   "id": "3aa0397e-233d-4de7-9e3b-4848a519bb6a",
   "metadata": {},
   "outputs": [],
   "source": []
  }
 ],
 "metadata": {
  "kernelspec": {
   "display_name": "Python 3 (ipykernel)",
   "language": "python",
   "name": "python3"
  },
  "language_info": {
   "codemirror_mode": {
    "name": "ipython",
    "version": 3
   },
   "file_extension": ".py",
   "mimetype": "text/x-python",
   "name": "python",
   "nbconvert_exporter": "python",
   "pygments_lexer": "ipython3",
   "version": "3.12.4"
  }
 },
 "nbformat": 4,
 "nbformat_minor": 5
}
